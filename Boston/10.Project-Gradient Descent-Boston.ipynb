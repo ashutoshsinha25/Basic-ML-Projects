{
 "cells": [
  {
   "cell_type": "markdown",
   "metadata": {},
   "source": [
    "## Boston Dataset"
   ]
  },
  {
   "cell_type": "code",
   "execution_count": null,
   "metadata": {},
   "outputs": [],
   "source": [
    "import pandas as pd\n",
    "import numpy as np\n",
    "import matplotlib.pyplot as plt\n",
    "%matplotlib inline\n"
   ]
  },
  {
   "cell_type": "code",
   "execution_count": null,
   "metadata": {},
   "outputs": [],
   "source": [
    "train = np.loadtxt(r'E:\\Coding Ninjas Machine Learning and Deep Learning\\PROJECT\\Gradient Descent\\Boston Dataset\\training_boston_x_y_train.csv',delimiter=',')\n",
    "test = np.loadtxt(r'E:\\Coding Ninjas Machine Learning and Deep Learning\\PROJECT\\Gradient Descent\\Boston Dataset\\test_boston_x_test.csv',delimiter=',')"
   ]
  },
  {
   "cell_type": "code",
   "execution_count": null,
   "metadata": {},
   "outputs": [],
   "source": [
    "# train.shape"
   ]
  },
  {
   "cell_type": "code",
   "execution_count": null,
   "metadata": {},
   "outputs": [],
   "source": [
    "# test.shape"
   ]
  },
  {
   "cell_type": "code",
   "execution_count": null,
   "metadata": {},
   "outputs": [],
   "source": [
    "# function"
   ]
  },
  {
   "cell_type": "code",
   "execution_count": null,
   "metadata": {},
   "outputs": [],
   "source": [
    "# def step_gradient(datatrain,learning_rate,m,c):\n",
    "#     m_slope=np.zeros(13)\n",
    "#     c_slope=0\n",
    "#     new_m=np.zeros(13)\n",
    "#     M=len(datatrain)\n",
    "#     for i in range(M):\n",
    "#         x_train=datatrain[i,0:13]\n",
    "#         y_train=datatrain[i,13]\n",
    "#         hyp=0\n",
    "#         for k in range(13):\n",
    "#             hyp+=m[k]*x_train[k]\n",
    "#         hyp+=c\n",
    "#         for j in range(0,13):\n",
    "#             m_slope[j]+=(-2/M)*(y_train-hyp)*x_train[j]\n",
    "#             c_slope+=(-2/M)*(y_train-hyp)\n",
    "#     for j in range(13):\n",
    "#         new_m[j]=m[j]-learning_rate*m_slope[j]\n",
    "#     new_c=c-learning_rate*c_slope\n",
    "#     return new_m,new_c\n",
    "        "
   ]
  },
  {
   "cell_type": "code",
   "execution_count": null,
   "metadata": {},
   "outputs": [],
   "source": [
    "# def gd(datatrain,learning_rate,iterations):\n",
    "#     m=np.zeros(13)\n",
    "#     c=0\n",
    "#     for i in range(iterations):\n",
    "#         m,c=step_gradient(datatrain,learning_rate,m,c)\n",
    "#         print('cost output',cost(datatrain,m,c))\n",
    "#     return m,c  "
   ]
  },
  {
   "cell_type": "code",
   "execution_count": null,
   "metadata": {},
   "outputs": [],
   "source": [
    "# def cost(datatrain,m,c):\n",
    "#     total_cost=0.0\n",
    "#     M=len(datatrain)\n",
    "#     for i in range(M):\n",
    "#         x_train=datatrain[i,0:13]\n",
    "#         y_train=datatrain[i,13]\n",
    "#         hyp=0\n",
    "#         for k in range(13):\n",
    "#             hyp+=m[k]*x_train[k]\n",
    "#         hyp+=c   \n",
    "#         total_cost+=((y_train-hyp)**2)/M\n",
    "#     return total_cost"
   ]
  },
  {
   "cell_type": "code",
   "execution_count": null,
   "metadata": {},
   "outputs": [],
   "source": [
    "# def run():\n",
    "#     datatrain=np.genfromtxt(r\"E:\\Coding Ninjas Machine Learning and Deep Learning\\PROJECT\\Gradient Descent\\Boston Dataset\\training_boston_x_y_train.csv\",delimiter=\",\")\n",
    "#     datatest=np.genfromtxt(r\"E:\\Coding Ninjas Machine Learning and Deep Learning\\PROJECT\\Gradient Descent\\Boston Dataset\\test_boston_x_test.csv\",delimiter=\",\")\n",
    "#     learning_rate=0.001\n",
    "#     iterations=300\n",
    "#     m,c=gd(datatrain,learning_rate,iterations)\n",
    "#     print('m values:-',m)\n",
    "#     print()\n",
    "#     print('c values:-',c)\n",
    "    \n",
    "#     print('going to predictions')\n",
    "#     y_pred=np.zeros(len(datatest))\n",
    "#     for i in range(len(datatest)):\n",
    "#         x_test=datatest[i,0:13]\n",
    "#         hyp=0\n",
    "#         for k in range(13):\n",
    "#             hyp+=m[k]*x_test[k]\n",
    "#         hyp+=c\n",
    "#         y_pred[i]=hyp\n",
    "#     print(type(y_pred))\n",
    "    \n",
    "#     return y_pred\n"
   ]
  },
  {
   "cell_type": "code",
   "execution_count": null,
   "metadata": {},
   "outputs": [],
   "source": [
    "# run()"
   ]
  },
  {
   "cell_type": "code",
   "execution_count": null,
   "metadata": {},
   "outputs": [],
   "source": [
    "# pred = run()"
   ]
  },
  {
   "cell_type": "code",
   "execution_count": null,
   "metadata": {},
   "outputs": [],
   "source": [
    "# np.savetxt('E:\\Coding Ninjas Machine Learning and Deep Learning\\PROJECT\\Gradient Descent\\Boston Dataset\\pedictions.csv',pred,delimiter=',',fmt='%1.5f')"
   ]
  },
  {
   "cell_type": "code",
   "execution_count": null,
   "metadata": {},
   "outputs": [],
   "source": []
  },
  {
   "cell_type": "code",
   "execution_count": null,
   "metadata": {},
   "outputs": [],
   "source": []
  },
  {
   "cell_type": "code",
   "execution_count": null,
   "metadata": {},
   "outputs": [],
   "source": []
  },
  {
   "cell_type": "code",
   "execution_count": null,
   "metadata": {},
   "outputs": [],
   "source": []
  },
  {
   "cell_type": "code",
   "execution_count": null,
   "metadata": {},
   "outputs": [],
   "source": []
  },
  {
   "cell_type": "code",
   "execution_count": null,
   "metadata": {},
   "outputs": [],
   "source": []
  },
  {
   "cell_type": "code",
   "execution_count": null,
   "metadata": {},
   "outputs": [],
   "source": []
  },
  {
   "cell_type": "markdown",
   "metadata": {},
   "source": [
    "# with sklearn"
   ]
  },
  {
   "cell_type": "code",
   "execution_count": null,
   "metadata": {},
   "outputs": [],
   "source": [
    "# train.shape"
   ]
  },
  {
   "cell_type": "code",
   "execution_count": null,
   "metadata": {},
   "outputs": [],
   "source": [
    "# train"
   ]
  },
  {
   "cell_type": "code",
   "execution_count": null,
   "metadata": {},
   "outputs": [],
   "source": [
    "# x_train=train[:,0:-1]"
   ]
  },
  {
   "cell_type": "code",
   "execution_count": null,
   "metadata": {},
   "outputs": [],
   "source": [
    "# x_train.shape"
   ]
  },
  {
   "cell_type": "code",
   "execution_count": null,
   "metadata": {},
   "outputs": [],
   "source": [
    "# y_train= train[:,-1]"
   ]
  },
  {
   "cell_type": "code",
   "execution_count": null,
   "metadata": {},
   "outputs": [],
   "source": [
    "# y_train.shape"
   ]
  },
  {
   "cell_type": "code",
   "execution_count": null,
   "metadata": {},
   "outputs": [],
   "source": [
    "# from sklearn.preprocessing import StandardScaler\n",
    "# sc = StandardScaler()\n"
   ]
  },
  {
   "cell_type": "code",
   "execution_count": null,
   "metadata": {},
   "outputs": [],
   "source": [
    "# sc.fit(x_train)"
   ]
  },
  {
   "cell_type": "code",
   "execution_count": null,
   "metadata": {},
   "outputs": [],
   "source": [
    "# x_fit_train =sc.transform(x_train)"
   ]
  },
  {
   "cell_type": "code",
   "execution_count": null,
   "metadata": {},
   "outputs": [],
   "source": [
    "# x_fit_test = sc.transform(test)"
   ]
  },
  {
   "cell_type": "code",
   "execution_count": null,
   "metadata": {},
   "outputs": [],
   "source": [
    "# print(x_fit_train)"
   ]
  },
  {
   "cell_type": "code",
   "execution_count": null,
   "metadata": {},
   "outputs": [],
   "source": [
    "# print(x_fit_test)"
   ]
  },
  {
   "cell_type": "code",
   "execution_count": null,
   "metadata": {},
   "outputs": [],
   "source": [
    "# from sklearn.ensemble import GradientBoostingRegressor"
   ]
  },
  {
   "cell_type": "code",
   "execution_count": null,
   "metadata": {},
   "outputs": [],
   "source": [
    "# algo =GradientBoostingRegressor(n_estimators=4000,learning_rate=0.01)\n",
    "# algo.fit(x_fit_train,y_train)"
   ]
  },
  {
   "cell_type": "code",
   "execution_count": null,
   "metadata": {},
   "outputs": [],
   "source": [
    "# y_predictions = algo.predict(x_fit_test)"
   ]
  },
  {
   "cell_type": "code",
   "execution_count": null,
   "metadata": {},
   "outputs": [],
   "source": [
    "# y_predictions"
   ]
  },
  {
   "cell_type": "code",
   "execution_count": null,
   "metadata": {},
   "outputs": [],
   "source": [
    "# np.savetxt('E:\\Coding Ninjas Machine Learning and Deep Learning\\PROJECT\\Gradient Descent\\Boston Dataset\\predictionsSKL.csv',y_predictions,fmt='%1.5f')"
   ]
  },
  {
   "cell_type": "code",
   "execution_count": null,
   "metadata": {},
   "outputs": [],
   "source": []
  }
 ],
 "metadata": {
  "kernelspec": {
   "display_name": "Python 3",
   "language": "python",
   "name": "python3"
  },
  "language_info": {
   "codemirror_mode": {
    "name": "ipython",
    "version": 3
   },
   "file_extension": ".py",
   "mimetype": "text/x-python",
   "name": "python",
   "nbconvert_exporter": "python",
   "pygments_lexer": "ipython3",
   "version": "3.8.5"
  }
 },
 "nbformat": 4,
 "nbformat_minor": 4
}
